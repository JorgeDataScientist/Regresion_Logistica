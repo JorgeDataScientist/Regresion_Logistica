{
 "cells": [
  {
   "cell_type": "markdown",
   "metadata": {},
   "source": [
    "# Análisis de Datos sobre Cáncer de Mama con Regresión Logística\n",
    "\n",
    "Este proyecto se enfoca en analizar el conjunto de datos Wisconsin Diagnostic Breast Cancer (WDBC), que contiene información crucial sobre casos de cáncer de mama. Utilizando técnicas avanzadas de análisis de datos, especialmente la regresión logística, este proyecto busca descubrir patrones y relaciones en los datos para mejorar la comprensión y predicción del cáncer de mama."
   ]
  },
  {
   "cell_type": "markdown",
   "metadata": {},
   "source": [
    "El proyecto se centra en el análisis del conjunto de datos Wisconsin Diagnostic Breast Cancer (WDBC) para comprender y predecir el cáncer de mama. Utilizando la regresión logística, se exploran las características del conjunto de datos para clasificar tumores como benignos o malignos. "
   ]
  },
  {
   "cell_type": "markdown",
   "metadata": {},
   "source": [
    "## Diccionario de Datos \"wdbc_data.csv\"\n",
    "\n",
    "1. **ID:** Identificador único para cada entrada en el conjunto de datos.\n",
    "2. **Diagnóstico (M/B):** Indica si el tumor es maligno (M) o benigno (B), es decir, si es cancerígeno o no cancerígeno.\n",
    "3. **Radio medio (mean radius):** Promedio de las distancias desde el centro hasta el punto del perímetro del tumor. Imagina un círculo que encaja mejor en el tumor.\n",
    "4. **Textura media (mean texture):** Variación promedio en la intensidad del color de los píxeles en la imagen del tumor.\n",
    "5. **Perímetro medio (mean perimeter):** Longitud promedio del perímetro del tumor.\n",
    "6. **Área media (mean area):** Área promedio dentro del contorno del tumor.\n",
    "7. **Suavidad media (mean smoothness):** Variación promedio en las longitudes de los radios del tumor. Mide qué tan suaves son las variaciones en la forma del tumor.\n",
    "8. **Compacidad media (mean compactness):** Mide la compacidad del tumor, es decir, qué tan cerca está el tumor de ser un círculo. Se calcula como (perímetro^2 / área - 1.0).\n",
    "9. **Concavidad media (mean concavity):** Grado promedio de concavidad de las porciones cóncavas del contorno del tumor.\n",
    "10. **Puntos cóncavos medios (mean concave points):** Número promedio de porciones cóncavas del contorno del tumor.\n",
    "11. **Simetría media (mean symmetry):** Mide la simetría del contorno del tumor.\n",
    "12. **Dimensión fractal media (mean fractal dimension):** Mide la \"rugosidad\" del tumor, es decir, cuánto se asemeja al borde de una costa fractal. \n",
    "13. **Radio SE (se radius):** Error estándar para el radio medio de las distancias desde el centro al punto del perímetro.\n",
    "14. **Textura SE (se texture):** Error estándar para la textura media de las variaciones de color.\n",
    "15. **Perímetro SE (se perimeter):** Error estándar para el perímetro medio del tumor.\n",
    "16. **Área SE (se area):** Error estándar para el área media dentro del contorno del tumor.\n",
    "17. **Suavidad SE (se smoothness):** Error estándar para la suavidad media del tumor.\n",
    "18. **Compacidad SE (se compactness):** Error estándar para la compacidad media del tumor.\n",
    "19. **Concavidad SE (se concavity):** Error estándar para la concavidad media del tumor.\n",
    "20. **Puntos cóncavos SE (se concave points):** Error estándar para el número de porciones cóncavas del contorno del tumor.\n",
    "21. **Simetría SE (se symmetry):** Error estándar para la simetría media del contorno del tumor.\n",
    "22. **Dimensión fractal SE (se fractal dimension):** Error estándar para la dimensión fractal media del tumor.\n",
    "23. **Radio peor (worst radius):** Mayor valor encontrado para el radio medio de las distancias desde el centro al punto del perímetro.\n",
    "24. **Textura peor (worst texture):** Mayor valor encontrado para la textura media de las variaciones de color.\n",
    "25. **Perímetro peor (worst perimeter):** Mayor valor encontrado para el perímetro medio del tumor.\n",
    "26. **Área peor (worst area):** Mayor valor encontrado para el área media dentro del contorno del tumor.\n",
    "27. **Suavidad peor (worst smoothness):** Mayor valor encontrado para la suavidad media del tumor.\n",
    "28. **Compacidad peor (worst compactness):** Mayor valor encontrado para la compacidad media del tumor.\n",
    "29. **Concavidad peor (worst concavity):** Mayor valor encontrado para la concavidad media del tumor.\n",
    "30. **Puntos cóncavos peores (worst concave points):** Mayor valor encontrado para el número de porciones cóncavas del contorno del tumor.\n",
    "31. **Simetría peor (worst symmetry):** Mayor valor encontrado para la simetría media del contorno del tumor.\n",
    "32. **Dimensión fractal peor (worst fractal dimension):** Mayor valor encontrado para la dimensión fractal media del tumor.\n",
    "\n",
    "Este diccionario proporciona una descripción fácil de entender para cada uno de los atributos en el conjunto de datos sobre el cáncer de mama.\n"
   ]
  },
  {
   "cell_type": "code",
   "execution_count": 319,
   "metadata": {},
   "outputs": [],
   "source": [
    "import pandas as pd\n",
    "from sklearn import datasets\n",
    "from sklearn.model_selection import train_test_split\n",
    "from sklearn.preprocessing import StandardScaler\n",
    "from sklearn.linear_model import LogisticRegression\n",
    "import matplotlib.pyplot as plt\n",
    "from sklearn.metrics import confusion_matrix\n",
    "from sklearn.metrics import precision_score\n",
    "from sklearn.metrics import accuracy_score\n",
    "from sklearn.metrics import recall_score\n",
    "from sklearn.metrics import f1_score\n",
    "from sklearn.metrics import roc_auc_score\n",
    "from sklearn.metrics import roc_curve"
   ]
  },
  {
   "cell_type": "code",
   "execution_count": 320,
   "metadata": {},
   "outputs": [],
   "source": [
    "datasets = datasets.load_breast_cancer()"
   ]
  },
  {
   "cell_type": "code",
   "execution_count": 321,
   "metadata": {},
   "outputs": [
    {
     "name": "stdout",
     "output_type": "stream",
     "text": [
      "{'data': array([[1.799e+01, 1.038e+01, 1.228e+02, ..., 2.654e-01, 4.601e-01,\n",
      "        1.189e-01],\n",
      "       [2.057e+01, 1.777e+01, 1.329e+02, ..., 1.860e-01, 2.750e-01,\n",
      "        8.902e-02],\n",
      "       [1.969e+01, 2.125e+01, 1.300e+02, ..., 2.430e-01, 3.613e-01,\n",
      "        8.758e-02],\n",
      "       ...,\n",
      "       [1.660e+01, 2.808e+01, 1.083e+02, ..., 1.418e-01, 2.218e-01,\n",
      "        7.820e-02],\n",
      "       [2.060e+01, 2.933e+01, 1.401e+02, ..., 2.650e-01, 4.087e-01,\n",
      "        1.240e-01],\n",
      "       [7.760e+00, 2.454e+01, 4.792e+01, ..., 0.000e+00, 2.871e-01,\n",
      "        7.039e-02]]), 'target': array([0, 0, 0, 0, 0, 0, 0, 0, 0, 0, 0, 0, 0, 0, 0, 0, 0, 0, 0, 1, 1, 1,\n",
      "       0, 0, 0, 0, 0, 0, 0, 0, 0, 0, 0, 0, 0, 0, 0, 1, 0, 0, 0, 0, 0, 0,\n",
      "       0, 0, 1, 0, 1, 1, 1, 1, 1, 0, 0, 1, 0, 0, 1, 1, 1, 1, 0, 1, 0, 0,\n",
      "       1, 1, 1, 1, 0, 1, 0, 0, 1, 0, 1, 0, 0, 1, 1, 1, 0, 0, 1, 0, 0, 0,\n",
      "       1, 1, 1, 0, 1, 1, 0, 0, 1, 1, 1, 0, 0, 1, 1, 1, 1, 0, 1, 1, 0, 1,\n",
      "       1, 1, 1, 1, 1, 1, 1, 0, 0, 0, 1, 0, 0, 1, 1, 1, 0, 0, 1, 0, 1, 0,\n",
      "       0, 1, 0, 0, 1, 1, 0, 1, 1, 0, 1, 1, 1, 1, 0, 1, 1, 1, 1, 1, 1, 1,\n",
      "       1, 1, 0, 1, 1, 1, 1, 0, 0, 1, 0, 1, 1, 0, 0, 1, 1, 0, 0, 1, 1, 1,\n",
      "       1, 0, 1, 1, 0, 0, 0, 1, 0, 1, 0, 1, 1, 1, 0, 1, 1, 0, 0, 1, 0, 0,\n",
      "       0, 0, 1, 0, 0, 0, 1, 0, 1, 0, 1, 1, 0, 1, 0, 0, 0, 0, 1, 1, 0, 0,\n",
      "       1, 1, 1, 0, 1, 1, 1, 1, 1, 0, 0, 1, 1, 0, 1, 1, 0, 0, 1, 0, 1, 1,\n",
      "       1, 1, 0, 1, 1, 1, 1, 1, 0, 1, 0, 0, 0, 0, 0, 0, 0, 0, 0, 0, 0, 0,\n",
      "       0, 0, 1, 1, 1, 1, 1, 1, 0, 1, 0, 1, 1, 0, 1, 1, 0, 1, 0, 0, 1, 1,\n",
      "       1, 1, 1, 1, 1, 1, 1, 1, 1, 1, 1, 0, 1, 1, 0, 1, 0, 1, 1, 1, 1, 1,\n",
      "       1, 1, 1, 1, 1, 1, 1, 1, 1, 0, 1, 1, 1, 0, 1, 0, 1, 1, 1, 1, 0, 0,\n",
      "       0, 1, 1, 1, 1, 0, 1, 0, 1, 0, 1, 1, 1, 0, 1, 1, 1, 1, 1, 1, 1, 0,\n",
      "       0, 0, 1, 1, 1, 1, 1, 1, 1, 1, 1, 1, 1, 0, 0, 1, 0, 0, 0, 1, 0, 0,\n",
      "       1, 1, 1, 1, 1, 0, 1, 1, 1, 1, 1, 0, 1, 1, 1, 0, 1, 1, 0, 0, 1, 1,\n",
      "       1, 1, 1, 1, 0, 1, 1, 1, 1, 1, 1, 1, 0, 1, 1, 1, 1, 1, 0, 1, 1, 0,\n",
      "       1, 1, 1, 1, 1, 1, 1, 1, 1, 1, 1, 1, 0, 1, 0, 0, 1, 0, 1, 1, 1, 1,\n",
      "       1, 0, 1, 1, 0, 1, 0, 1, 1, 0, 1, 0, 1, 1, 1, 1, 1, 1, 1, 1, 0, 0,\n",
      "       1, 1, 1, 1, 1, 1, 0, 1, 1, 1, 1, 1, 1, 1, 1, 1, 1, 0, 1, 1, 1, 1,\n",
      "       1, 1, 1, 0, 1, 0, 1, 1, 0, 1, 1, 1, 1, 1, 0, 0, 1, 0, 1, 0, 1, 1,\n",
      "       1, 1, 1, 0, 1, 1, 0, 1, 0, 1, 0, 0, 1, 1, 1, 0, 1, 1, 1, 1, 1, 1,\n",
      "       1, 1, 1, 1, 1, 0, 1, 0, 0, 1, 1, 1, 1, 1, 1, 1, 1, 1, 1, 1, 1, 1,\n",
      "       1, 1, 1, 1, 1, 1, 1, 1, 1, 1, 1, 1, 0, 0, 0, 0, 0, 0, 1]), 'frame': None, 'target_names': array(['malignant', 'benign'], dtype='<U9'), 'DESCR': '.. _breast_cancer_dataset:\\n\\nBreast cancer wisconsin (diagnostic) dataset\\n--------------------------------------------\\n\\n**Data Set Characteristics:**\\n\\n    :Number of Instances: 569\\n\\n    :Number of Attributes: 30 numeric, predictive attributes and the class\\n\\n    :Attribute Information:\\n        - radius (mean of distances from center to points on the perimeter)\\n        - texture (standard deviation of gray-scale values)\\n        - perimeter\\n        - area\\n        - smoothness (local variation in radius lengths)\\n        - compactness (perimeter^2 / area - 1.0)\\n        - concavity (severity of concave portions of the contour)\\n        - concave points (number of concave portions of the contour)\\n        - symmetry\\n        - fractal dimension (\"coastline approximation\" - 1)\\n\\n        The mean, standard error, and \"worst\" or largest (mean of the three\\n        worst/largest values) of these features were computed for each image,\\n        resulting in 30 features.  For instance, field 0 is Mean Radius, field\\n        10 is Radius SE, field 20 is Worst Radius.\\n\\n        - class:\\n                - WDBC-Malignant\\n                - WDBC-Benign\\n\\n    :Summary Statistics:\\n\\n    ===================================== ====== ======\\n                                           Min    Max\\n    ===================================== ====== ======\\n    radius (mean):                        6.981  28.11\\n    texture (mean):                       9.71   39.28\\n    perimeter (mean):                     43.79  188.5\\n    area (mean):                          143.5  2501.0\\n    smoothness (mean):                    0.053  0.163\\n    compactness (mean):                   0.019  0.345\\n    concavity (mean):                     0.0    0.427\\n    concave points (mean):                0.0    0.201\\n    symmetry (mean):                      0.106  0.304\\n    fractal dimension (mean):             0.05   0.097\\n    radius (standard error):              0.112  2.873\\n    texture (standard error):             0.36   4.885\\n    perimeter (standard error):           0.757  21.98\\n    area (standard error):                6.802  542.2\\n    smoothness (standard error):          0.002  0.031\\n    compactness (standard error):         0.002  0.135\\n    concavity (standard error):           0.0    0.396\\n    concave points (standard error):      0.0    0.053\\n    symmetry (standard error):            0.008  0.079\\n    fractal dimension (standard error):   0.001  0.03\\n    radius (worst):                       7.93   36.04\\n    texture (worst):                      12.02  49.54\\n    perimeter (worst):                    50.41  251.2\\n    area (worst):                         185.2  4254.0\\n    smoothness (worst):                   0.071  0.223\\n    compactness (worst):                  0.027  1.058\\n    concavity (worst):                    0.0    1.252\\n    concave points (worst):               0.0    0.291\\n    symmetry (worst):                     0.156  0.664\\n    fractal dimension (worst):            0.055  0.208\\n    ===================================== ====== ======\\n\\n    :Missing Attribute Values: None\\n\\n    :Class Distribution: 212 - Malignant, 357 - Benign\\n\\n    :Creator:  Dr. William H. Wolberg, W. Nick Street, Olvi L. Mangasarian\\n\\n    :Donor: Nick Street\\n\\n    :Date: November, 1995\\n\\nThis is a copy of UCI ML Breast Cancer Wisconsin (Diagnostic) datasets.\\nhttps://goo.gl/U2Uwz2\\n\\nFeatures are computed from a digitized image of a fine needle\\naspirate (FNA) of a breast mass.  They describe\\ncharacteristics of the cell nuclei present in the image.\\n\\nSeparating plane described above was obtained using\\nMultisurface Method-Tree (MSM-T) [K. P. Bennett, \"Decision Tree\\nConstruction Via Linear Programming.\" Proceedings of the 4th\\nMidwest Artificial Intelligence and Cognitive Science Society,\\npp. 97-101, 1992], a classification method which uses linear\\nprogramming to construct a decision tree.  Relevant features\\nwere selected using an exhaustive search in the space of 1-4\\nfeatures and 1-3 separating planes.\\n\\nThe actual linear program used to obtain the separating plane\\nin the 3-dimensional space is that described in:\\n[K. P. Bennett and O. L. Mangasarian: \"Robust Linear\\nProgramming Discrimination of Two Linearly Inseparable Sets\",\\nOptimization Methods and Software 1, 1992, 23-34].\\n\\nThis database is also available through the UW CS ftp server:\\n\\nftp ftp.cs.wisc.edu\\ncd math-prog/cpo-dataset/machine-learn/WDBC/\\n\\n.. topic:: References\\n\\n   - W.N. Street, W.H. Wolberg and O.L. Mangasarian. Nuclear feature extraction \\n     for breast tumor diagnosis. IS&T/SPIE 1993 International Symposium on \\n     Electronic Imaging: Science and Technology, volume 1905, pages 861-870,\\n     San Jose, CA, 1993.\\n   - O.L. Mangasarian, W.N. Street and W.H. Wolberg. Breast cancer diagnosis and \\n     prognosis via linear programming. Operations Research, 43(4), pages 570-577, \\n     July-August 1995.\\n   - W.H. Wolberg, W.N. Street, and O.L. Mangasarian. Machine learning techniques\\n     to diagnose breast cancer from fine-needle aspirates. Cancer Letters 77 (1994) \\n     163-171.', 'feature_names': array(['mean radius', 'mean texture', 'mean perimeter', 'mean area',\n",
      "       'mean smoothness', 'mean compactness', 'mean concavity',\n",
      "       'mean concave points', 'mean symmetry', 'mean fractal dimension',\n",
      "       'radius error', 'texture error', 'perimeter error', 'area error',\n",
      "       'smoothness error', 'compactness error', 'concavity error',\n",
      "       'concave points error', 'symmetry error',\n",
      "       'fractal dimension error', 'worst radius', 'worst texture',\n",
      "       'worst perimeter', 'worst area', 'worst smoothness',\n",
      "       'worst compactness', 'worst concavity', 'worst concave points',\n",
      "       'worst symmetry', 'worst fractal dimension'], dtype='<U23'), 'filename': 'breast_cancer.csv', 'data_module': 'sklearn.datasets.data'}\n"
     ]
    }
   ],
   "source": [
    "print(datasets)"
   ]
  },
  {
   "cell_type": "code",
   "execution_count": 322,
   "metadata": {},
   "outputs": [
    {
     "data": {
      "text/plain": [
       "dict_keys(['data', 'target', 'frame', 'target_names', 'DESCR', 'feature_names', 'filename', 'data_module'])"
      ]
     },
     "execution_count": 322,
     "metadata": {},
     "output_type": "execute_result"
    }
   ],
   "source": [
    "datasets.keys()"
   ]
  },
  {
   "cell_type": "markdown",
   "metadata": {},
   "source": [
    "## Diccionario de Claves\n",
    "\n",
    "1. **data:** Un array NumPy que contiene los datos del conjunto de datos. Cada fila representa una instancia y cada columna representa una característica del conjunto de datos.\n",
    "\n",
    "2. **target:** Un array NumPy que contiene las etiquetas de clase para las instancias en el conjunto de datos. Por lo general, 0 representa una clase (tumor benigno) y 1 representa la otra (tumor maligno) en problemas de clasificación binaria como este.\n",
    "\n",
    "3. **frame:** No está presente en este conjunto de datos específico. En algunos conjuntos de datos, esta clave puede contener información adicional sobre la estructura de los datos.\n",
    "\n",
    "4. **target_names:** Un array NumPy que contiene los nombres de las clases del problema de clasificación. En este caso, 'malignant' y 'benign', que representan las dos clases del cáncer de mama.\n",
    "\n",
    "5. **DESCR:** Una descripción detallada del conjunto de datos que proporciona información sobre el origen, la estructura y las características del conjunto de datos.\n",
    "\n",
    "6. **feature_names:** Un array NumPy que contiene los nombres de las características del conjunto de datos. Cada nombre representa una columna en el array `data` y describe la información que esa característica representa.\n",
    "\n",
    "7. **filename:** El nombre del archivo que contiene el conjunto de datos. En este caso, 'breast_cancer.csv'.\n",
    "\n",
    "8. **data_module:** El módulo de Python que contiene funciones relacionadas con este conjunto de datos. En este caso, 'sklearn.datasets.data', indicando que estos datos están relacionados con la biblioteca scikit-learn."
   ]
  },
  {
   "cell_type": "code",
   "execution_count": 323,
   "metadata": {},
   "outputs": [
    {
     "name": "stdout",
     "output_type": "stream",
     "text": [
      ".. _breast_cancer_dataset:\n",
      "\n",
      "Breast cancer wisconsin (diagnostic) dataset\n",
      "--------------------------------------------\n",
      "\n",
      "**Data Set Characteristics:**\n",
      "\n",
      "    :Number of Instances: 569\n",
      "\n",
      "    :Number of Attributes: 30 numeric, predictive attributes and the class\n",
      "\n",
      "    :Attribute Information:\n",
      "        - radius (mean of distances from center to points on the perimeter)\n",
      "        - texture (standard deviation of gray-scale values)\n",
      "        - perimeter\n",
      "        - area\n",
      "        - smoothness (local variation in radius lengths)\n",
      "        - compactness (perimeter^2 / area - 1.0)\n",
      "        - concavity (severity of concave portions of the contour)\n",
      "        - concave points (number of concave portions of the contour)\n",
      "        - symmetry\n",
      "        - fractal dimension (\"coastline approximation\" - 1)\n",
      "\n",
      "        The mean, standard error, and \"worst\" or largest (mean of the three\n",
      "        worst/largest values) of these features were computed for each image,\n",
      "        resulting in 30 features.  For instance, field 0 is Mean Radius, field\n",
      "        10 is Radius SE, field 20 is Worst Radius.\n",
      "\n",
      "        - class:\n",
      "                - WDBC-Malignant\n",
      "                - WDBC-Benign\n",
      "\n",
      "    :Summary Statistics:\n",
      "\n",
      "    ===================================== ====== ======\n",
      "                                           Min    Max\n",
      "    ===================================== ====== ======\n",
      "    radius (mean):                        6.981  28.11\n",
      "    texture (mean):                       9.71   39.28\n",
      "    perimeter (mean):                     43.79  188.5\n",
      "    area (mean):                          143.5  2501.0\n",
      "    smoothness (mean):                    0.053  0.163\n",
      "    compactness (mean):                   0.019  0.345\n",
      "    concavity (mean):                     0.0    0.427\n",
      "    concave points (mean):                0.0    0.201\n",
      "    symmetry (mean):                      0.106  0.304\n",
      "    fractal dimension (mean):             0.05   0.097\n",
      "    radius (standard error):              0.112  2.873\n",
      "    texture (standard error):             0.36   4.885\n",
      "    perimeter (standard error):           0.757  21.98\n",
      "    area (standard error):                6.802  542.2\n",
      "    smoothness (standard error):          0.002  0.031\n",
      "    compactness (standard error):         0.002  0.135\n",
      "    concavity (standard error):           0.0    0.396\n",
      "    concave points (standard error):      0.0    0.053\n",
      "    symmetry (standard error):            0.008  0.079\n",
      "    fractal dimension (standard error):   0.001  0.03\n",
      "    radius (worst):                       7.93   36.04\n",
      "    texture (worst):                      12.02  49.54\n",
      "    perimeter (worst):                    50.41  251.2\n",
      "    area (worst):                         185.2  4254.0\n",
      "    smoothness (worst):                   0.071  0.223\n",
      "    compactness (worst):                  0.027  1.058\n",
      "    concavity (worst):                    0.0    1.252\n",
      "    concave points (worst):               0.0    0.291\n",
      "    symmetry (worst):                     0.156  0.664\n",
      "    fractal dimension (worst):            0.055  0.208\n",
      "    ===================================== ====== ======\n",
      "\n",
      "    :Missing Attribute Values: None\n",
      "\n",
      "    :Class Distribution: 212 - Malignant, 357 - Benign\n",
      "\n",
      "    :Creator:  Dr. William H. Wolberg, W. Nick Street, Olvi L. Mangasarian\n",
      "\n",
      "    :Donor: Nick Street\n",
      "\n",
      "    :Date: November, 1995\n",
      "\n",
      "This is a copy of UCI ML Breast Cancer Wisconsin (Diagnostic) datasets.\n",
      "https://goo.gl/U2Uwz2\n",
      "\n",
      "Features are computed from a digitized image of a fine needle\n",
      "aspirate (FNA) of a breast mass.  They describe\n",
      "characteristics of the cell nuclei present in the image.\n",
      "\n",
      "Separating plane described above was obtained using\n",
      "Multisurface Method-Tree (MSM-T) [K. P. Bennett, \"Decision Tree\n",
      "Construction Via Linear Programming.\" Proceedings of the 4th\n",
      "Midwest Artificial Intelligence and Cognitive Science Society,\n",
      "pp. 97-101, 1992], a classification method which uses linear\n",
      "programming to construct a decision tree.  Relevant features\n",
      "were selected using an exhaustive search in the space of 1-4\n",
      "features and 1-3 separating planes.\n",
      "\n",
      "The actual linear program used to obtain the separating plane\n",
      "in the 3-dimensional space is that described in:\n",
      "[K. P. Bennett and O. L. Mangasarian: \"Robust Linear\n",
      "Programming Discrimination of Two Linearly Inseparable Sets\",\n",
      "Optimization Methods and Software 1, 1992, 23-34].\n",
      "\n",
      "This database is also available through the UW CS ftp server:\n",
      "\n",
      "ftp ftp.cs.wisc.edu\n",
      "cd math-prog/cpo-dataset/machine-learn/WDBC/\n",
      "\n",
      ".. topic:: References\n",
      "\n",
      "   - W.N. Street, W.H. Wolberg and O.L. Mangasarian. Nuclear feature extraction \n",
      "     for breast tumor diagnosis. IS&T/SPIE 1993 International Symposium on \n",
      "     Electronic Imaging: Science and Technology, volume 1905, pages 861-870,\n",
      "     San Jose, CA, 1993.\n",
      "   - O.L. Mangasarian, W.N. Street and W.H. Wolberg. Breast cancer diagnosis and \n",
      "     prognosis via linear programming. Operations Research, 43(4), pages 570-577, \n",
      "     July-August 1995.\n",
      "   - W.H. Wolberg, W.N. Street, and O.L. Mangasarian. Machine learning techniques\n",
      "     to diagnose breast cancer from fine-needle aspirates. Cancer Letters 77 (1994) \n",
      "     163-171.\n"
     ]
    }
   ],
   "source": [
    "print(datasets.DESCR)"
   ]
  },
  {
   "cell_type": "markdown",
   "metadata": {},
   "source": [
    "# Definir Varibles X, Y"
   ]
  },
  {
   "cell_type": "code",
   "execution_count": 324,
   "metadata": {},
   "outputs": [],
   "source": [
    "# Para X utilizare todas las variables que se encuentran dentro de data\n",
    "X = datasets.data"
   ]
  },
  {
   "cell_type": "code",
   "execution_count": 325,
   "metadata": {},
   "outputs": [],
   "source": [
    "# Y sera igual a los datos correspondientes a \"target\"\n",
    "y = datasets.target"
   ]
  },
  {
   "cell_type": "markdown",
   "metadata": {},
   "source": [
    "## Crear datos de prueba y entrenamiento"
   ]
  },
  {
   "cell_type": "code",
   "execution_count": 326,
   "metadata": {},
   "outputs": [],
   "source": [
    "# Separo los datos de 'train' en entrenamiento y prueba.\n",
    "#Tomo el 20% de los datos para pruebas de entrenamiento del modelo\n",
    "X_train, X_test, y_train, y_test = train_test_split(X, y, test_size=0.2)"
   ]
  },
  {
   "cell_type": "code",
   "execution_count": 327,
   "metadata": {},
   "outputs": [],
   "source": [
    "# Escalar los datos porque las caracteristicas de los datos son distintas en rango, magnitudes y/o unidades\n",
    "escalar = StandardScaler()\n",
    "X_train = escalar.fit_transform(X_train) #Calcula y transforma los datos escalados\n",
    "X_test = escalar.transform(X_test)"
   ]
  },
  {
   "cell_type": "markdown",
   "metadata": {},
   "source": [
    "## Aplicar Regresion Logistica"
   ]
  },
  {
   "cell_type": "code",
   "execution_count": 328,
   "metadata": {},
   "outputs": [],
   "source": [
    "#Definir el modelo\n",
    "algoritmo = LogisticRegression()"
   ]
  },
  {
   "cell_type": "code",
   "execution_count": 329,
   "metadata": {},
   "outputs": [
    {
     "data": {
      "text/html": [
       "<style>#sk-container-id-15 {color: black;background-color: white;}#sk-container-id-15 pre{padding: 0;}#sk-container-id-15 div.sk-toggleable {background-color: white;}#sk-container-id-15 label.sk-toggleable__label {cursor: pointer;display: block;width: 100%;margin-bottom: 0;padding: 0.3em;box-sizing: border-box;text-align: center;}#sk-container-id-15 label.sk-toggleable__label-arrow:before {content: \"▸\";float: left;margin-right: 0.25em;color: #696969;}#sk-container-id-15 label.sk-toggleable__label-arrow:hover:before {color: black;}#sk-container-id-15 div.sk-estimator:hover label.sk-toggleable__label-arrow:before {color: black;}#sk-container-id-15 div.sk-toggleable__content {max-height: 0;max-width: 0;overflow: hidden;text-align: left;background-color: #f0f8ff;}#sk-container-id-15 div.sk-toggleable__content pre {margin: 0.2em;color: black;border-radius: 0.25em;background-color: #f0f8ff;}#sk-container-id-15 input.sk-toggleable__control:checked~div.sk-toggleable__content {max-height: 200px;max-width: 100%;overflow: auto;}#sk-container-id-15 input.sk-toggleable__control:checked~label.sk-toggleable__label-arrow:before {content: \"▾\";}#sk-container-id-15 div.sk-estimator input.sk-toggleable__control:checked~label.sk-toggleable__label {background-color: #d4ebff;}#sk-container-id-15 div.sk-label input.sk-toggleable__control:checked~label.sk-toggleable__label {background-color: #d4ebff;}#sk-container-id-15 input.sk-hidden--visually {border: 0;clip: rect(1px 1px 1px 1px);clip: rect(1px, 1px, 1px, 1px);height: 1px;margin: -1px;overflow: hidden;padding: 0;position: absolute;width: 1px;}#sk-container-id-15 div.sk-estimator {font-family: monospace;background-color: #f0f8ff;border: 1px dotted black;border-radius: 0.25em;box-sizing: border-box;margin-bottom: 0.5em;}#sk-container-id-15 div.sk-estimator:hover {background-color: #d4ebff;}#sk-container-id-15 div.sk-parallel-item::after {content: \"\";width: 100%;border-bottom: 1px solid gray;flex-grow: 1;}#sk-container-id-15 div.sk-label:hover label.sk-toggleable__label {background-color: #d4ebff;}#sk-container-id-15 div.sk-serial::before {content: \"\";position: absolute;border-left: 1px solid gray;box-sizing: border-box;top: 0;bottom: 0;left: 50%;z-index: 0;}#sk-container-id-15 div.sk-serial {display: flex;flex-direction: column;align-items: center;background-color: white;padding-right: 0.2em;padding-left: 0.2em;position: relative;}#sk-container-id-15 div.sk-item {position: relative;z-index: 1;}#sk-container-id-15 div.sk-parallel {display: flex;align-items: stretch;justify-content: center;background-color: white;position: relative;}#sk-container-id-15 div.sk-item::before, #sk-container-id-15 div.sk-parallel-item::before {content: \"\";position: absolute;border-left: 1px solid gray;box-sizing: border-box;top: 0;bottom: 0;left: 50%;z-index: -1;}#sk-container-id-15 div.sk-parallel-item {display: flex;flex-direction: column;z-index: 1;position: relative;background-color: white;}#sk-container-id-15 div.sk-parallel-item:first-child::after {align-self: flex-end;width: 50%;}#sk-container-id-15 div.sk-parallel-item:last-child::after {align-self: flex-start;width: 50%;}#sk-container-id-15 div.sk-parallel-item:only-child::after {width: 0;}#sk-container-id-15 div.sk-dashed-wrapped {border: 1px dashed gray;margin: 0 0.4em 0.5em 0.4em;box-sizing: border-box;padding-bottom: 0.4em;background-color: white;}#sk-container-id-15 div.sk-label label {font-family: monospace;font-weight: bold;display: inline-block;line-height: 1.2em;}#sk-container-id-15 div.sk-label-container {text-align: center;}#sk-container-id-15 div.sk-container {/* jupyter's `normalize.less` sets `[hidden] { display: none; }` but bootstrap.min.css set `[hidden] { display: none !important; }` so we also need the `!important` here to be able to override the default hidden behavior on the sphinx rendered scikit-learn.org. See: https://github.com/scikit-learn/scikit-learn/issues/21755 */display: inline-block !important;position: relative;}#sk-container-id-15 div.sk-text-repr-fallback {display: none;}</style><div id=\"sk-container-id-15\" class=\"sk-top-container\"><div class=\"sk-text-repr-fallback\"><pre>LogisticRegression()</pre><b>In a Jupyter environment, please rerun this cell to show the HTML representation or trust the notebook. <br />On GitHub, the HTML representation is unable to render, please try loading this page with nbviewer.org.</b></div><div class=\"sk-container\" hidden><div class=\"sk-item\"><div class=\"sk-estimator sk-toggleable\"><input class=\"sk-toggleable__control sk-hidden--visually\" id=\"sk-estimator-id-15\" type=\"checkbox\" checked><label for=\"sk-estimator-id-15\" class=\"sk-toggleable__label sk-toggleable__label-arrow\">LogisticRegression</label><div class=\"sk-toggleable__content\"><pre>LogisticRegression()</pre></div></div></div></div></div>"
      ],
      "text/plain": [
       "LogisticRegression()"
      ]
     },
     "execution_count": 329,
     "metadata": {},
     "output_type": "execute_result"
    }
   ],
   "source": [
    "# Entrenar el modelo\n",
    "algoritmo.fit(X_train, y_train)"
   ]
  },
  {
   "cell_type": "code",
   "execution_count": 330,
   "metadata": {},
   "outputs": [],
   "source": [
    "# Realizar Prediccion\n",
    "y_pred = algoritmo.predict(X_test)"
   ]
  },
  {
   "cell_type": "markdown",
   "metadata": {},
   "source": [
    "### Visualizar la comparacion entre las predicciones y los datos reales"
   ]
  },
  {
   "cell_type": "code",
   "execution_count": 331,
   "metadata": {},
   "outputs": [
    {
     "data": {
      "image/png": "[encoded data removed]",
      "text/plain": [
       "<Figure size 800x600 with 1 Axes>"
      ]
     },
     "metadata": {},
     "output_type": "display_data"
    }
   ],
   "source": [
    "# Realizar predicciones en el conjunto de prueba\n",
    "predicciones = algoritmo.predict(X_test)\n",
    "\n",
    "# Crear un gráfico de dispersión para comparar las predicciones con los datos reales\n",
    "plt.figure(figsize=(8, 6))\n",
    "plt.scatter(y_test, predicciones, color='blue', label='Predicciones')\n",
    "plt.plot([y_test.min(), y_test.max()], [y_test.min(), y_test.max()], linewidth=2, color='red', linestyle='--', label='Real')\n",
    "plt.xlabel('Valores Reales')\n",
    "plt.ylabel('Valores Predichos')\n",
    "plt.title('Comparación entre Valores Reales y Predichos')\n",
    "plt.legend()\n",
    "plt.show()"
   ]
  },
  {
   "cell_type": "markdown",
   "metadata": {},
   "source": [
    "Gráfico de dispersión donde el eje x representa los valores reales y el eje y representa los valores predichos por el modelo de regresión logística. La línea roja punteada indica la relación ideal donde los valores reales y predichos son iguales. Si los puntos azules están cerca de esta línea, significa que las predicciones son precisas."
   ]
  },
  {
   "cell_type": "markdown",
   "metadata": {},
   "source": [
    "--------------------------------------------------"
   ]
  },
  {
   "cell_type": "code",
   "execution_count": 332,
   "metadata": {},
   "outputs": [
    {
     "data": {
      "text/html": [
       "<div>\n",
       "<style scoped>\n",
       "    .dataframe tbody tr th:only-of-type {\n",
       "        vertical-align: middle;\n",
       "    }\n",
       "\n",
       "    .dataframe tbody tr th {\n",
       "        vertical-align: top;\n",
       "    }\n",
       "\n",
       "    .dataframe thead th {\n",
       "        text-align: right;\n",
       "    }\n",
       "</style>\n",
       "<table border=\"1\" class=\"dataframe\">\n",
       "  <thead>\n",
       "    <tr style=\"text-align: right;\">\n",
       "      <th></th>\n",
       "      <th>Real</th>\n",
       "      <th>Predicciones</th>\n",
       "    </tr>\n",
       "  </thead>\n",
       "  <tbody>\n",
       "    <tr>\n",
       "      <th>0</th>\n",
       "      <td>1</td>\n",
       "      <td>1</td>\n",
       "    </tr>\n",
       "    <tr>\n",
       "      <th>1</th>\n",
       "      <td>1</td>\n",
       "      <td>1</td>\n",
       "    </tr>\n",
       "    <tr>\n",
       "      <th>2</th>\n",
       "      <td>1</td>\n",
       "      <td>1</td>\n",
       "    </tr>\n",
       "    <tr>\n",
       "      <th>3</th>\n",
       "      <td>0</td>\n",
       "      <td>0</td>\n",
       "    </tr>\n",
       "    <tr>\n",
       "      <th>4</th>\n",
       "      <td>1</td>\n",
       "      <td>1</td>\n",
       "    </tr>\n",
       "    <tr>\n",
       "      <th>5</th>\n",
       "      <td>0</td>\n",
       "      <td>0</td>\n",
       "    </tr>\n",
       "    <tr>\n",
       "      <th>6</th>\n",
       "      <td>1</td>\n",
       "      <td>1</td>\n",
       "    </tr>\n",
       "    <tr>\n",
       "      <th>7</th>\n",
       "      <td>0</td>\n",
       "      <td>0</td>\n",
       "    </tr>\n",
       "    <tr>\n",
       "      <th>8</th>\n",
       "      <td>1</td>\n",
       "      <td>1</td>\n",
       "    </tr>\n",
       "    <tr>\n",
       "      <th>9</th>\n",
       "      <td>1</td>\n",
       "      <td>1</td>\n",
       "    </tr>\n",
       "  </tbody>\n",
       "</table>\n",
       "</div>"
      ],
      "text/plain": [
       "   Real  Predicciones\n",
       "0     1             1\n",
       "1     1             1\n",
       "2     1             1\n",
       "3     0             0\n",
       "4     1             1\n",
       "5     0             0\n",
       "6     1             1\n",
       "7     0             0\n",
       "8     1             1\n",
       "9     1             1"
      ]
     },
     "execution_count": 332,
     "metadata": {},
     "output_type": "execute_result"
    }
   ],
   "source": [
    "# Crear un DataFrame con los primeros 50 datos reales y las predicciones\n",
    "comparacion = pd.DataFrame({'Real': y_test[:50], 'Predicciones': predicciones[:50]})\n",
    "\n",
    "# Imprimir las primeras filas del DataFrame\n",
    "comparacion.head(10)"
   ]
  },
  {
   "cell_type": "code",
   "execution_count": 333,
   "metadata": {},
   "outputs": [
    {
     "data": {
      "image/png": "[encoded data removed]",
      "text/plain": [
       "<Figure size 1000x600 with 1 Axes>"
      ]
     },
     "metadata": {},
     "output_type": "display_data"
    }
   ],
   "source": [
    "# Gráfico de barras para visualizar las comparaciones\n",
    "comparacion.plot(kind='bar', figsize=(10, 6))\n",
    "plt.title('Comparación entre Valores Reales y Predichos (Primeros 50 Datos)')\n",
    "plt.xlabel('Índice')\n",
    "plt.ylabel('Valores')\n",
    "plt.show()"
   ]
  },
  {
   "cell_type": "markdown",
   "metadata": {},
   "source": [
    "Gráfico de barras donde puedes ver visualmente las diferencias entre los valores reales y los predichos para cada índice."
   ]
  },
  {
   "cell_type": "markdown",
   "metadata": {},
   "source": [
    "-------------------------------------------"
   ]
  },
  {
   "cell_type": "code",
   "execution_count": 334,
   "metadata": {},
   "outputs": [
    {
     "name": "stdout",
     "output_type": "stream",
     "text": [
      "Cantidad de coincidencias: 49\n",
      "Proporción de coincidencias: 42.98%\n"
     ]
    }
   ],
   "source": [
    "# Contar las coincidencias entre los datos reales y las predicciones\n",
    "coincidencias = comparacion[comparacion['Real'] == comparacion['Predicciones']].shape[0]\n",
    "\n",
    "# Calcular la proporción de coincidencias\n",
    "proporcion_coincidencias = coincidencias / len(y_test) * 100\n",
    "\n",
    "# Mostrar la cantidad de coincidencias\n",
    "print(f'Cantidad de coincidencias: {coincidencias}')\n",
    "print(f'Proporción de coincidencias: {proporcion_coincidencias:.2f}%')"
   ]
  },
  {
   "cell_type": "markdown",
   "metadata": {},
   "source": [
    "---------------------------------------------"
   ]
  },
  {
   "cell_type": "code",
   "execution_count": 335,
   "metadata": {},
   "outputs": [
    {
     "data": {
      "image/png": "[encoded data removed]",
      "text/plain": [
       "<Figure size 1000x600 with 1 Axes>"
      ]
     },
     "metadata": {},
     "output_type": "display_data"
    }
   ],
   "source": [
    "# Gráfico de dispersión para visualizar las comparaciones\n",
    "plt.figure(figsize=(10, 6))\n",
    "plt.scatter(range(len(y_test)), y_test, color='blue', label='Real')\n",
    "plt.scatter(range(len(y_test)), predicciones, color='green', label='Predicciones')\n",
    "plt.scatter(comparacion[comparacion['Real'] == comparacion['Predicciones']].index, comparacion[comparacion['Real'] == comparacion['Predicciones']]['Real'], color='red', label='Coincidencias')\n",
    "plt.title('Comparación entre Valores Reales y Predichos')\n",
    "plt.xlabel('Índice')\n",
    "plt.ylabel('Valores')\n",
    "plt.legend()\n",
    "plt.show()"
   ]
  },
  {
   "cell_type": "markdown",
   "metadata": {},
   "source": [
    "los valores reales se muestran en azul, las predicciones en verde y las coincidencias en rojo. Esto proporcionará una visualización más clara de las comparaciones entre los datos reales y las predicciones."
   ]
  },
  {
   "cell_type": "markdown",
   "metadata": {},
   "source": [
    "----------------------------------------------------"
   ]
  },
  {
   "cell_type": "markdown",
   "metadata": {},
   "source": [
    "## Calcular metricas para el rendimiento del modelo basado solo en los datos de prueba\n",
    "\n",
    "Tomar en cuenta que solo se estan evaluando los datos de prueba y que solo representan un 20% de los datos"
   ]
  },
  {
   "cell_type": "code",
   "execution_count": 336,
   "metadata": {},
   "outputs": [
    {
     "name": "stdout",
     "output_type": "stream",
     "text": [
      "Matriz de Confusion: \n",
      "[[28  2]\n",
      " [ 1 83]]\n"
     ]
    }
   ],
   "source": [
    "#Calculando con matriz de confusion\n",
    "matriz = confusion_matrix(y_test, y_pred)\n",
    "print(\"Matriz de Confusion: \")\n",
    "print(matriz)"
   ]
  },
  {
   "cell_type": "markdown",
   "metadata": {},
   "source": [
    "### Resultado:\n",
    "Verdaderos Positivos (VP): 68 (1,1) <br>\n",
    "Falsos Positivos (FP): 0 (0,1) <br>\n",
    "Verdaderos Negativos (VN): 44( 0,0) <br>\n",
    "Falsos Negativos (FN): 2 (1,0) <br>\n",
    "Podemos interpretar estos resultados de la siguiente manera:\n",
    "\n",
    "El modelo ha identificado correctamente 68 casos positivos (cáncer benigno) y 44 casos negativos (cáncer maligno). No ha habido falsos positivos, lo que significa que el modelo no ha etiquetado incorrectamente ningún caso benigno como maligno. Sin embargo, ha habido 2 falsos negativos, lo que indica que el modelo ha perdido dos casos de cáncer maligno.\n",
    "\n",
    "En resumen, el modelo ha demostrado un alto rendimiento al predecir correctamente la mayoría de los casos benignos y malignos. Sin embargo, existe un pequeño margen de error con dos casos malignos que no fueron identificados correctamente. Es fundamental evaluar estos resultados junto con otros criterios clínicos y de especialistas en el campo médico para determinar la eficacia real del modelo en un entorno clínico."
   ]
  },
  {
   "cell_type": "code",
   "execution_count": 337,
   "metadata": {},
   "outputs": [
    {
     "name": "stdout",
     "output_type": "stream",
     "text": [
      "Precision: 0.98\n",
      "Recall: 0.99\n",
      "Exactitud: 0.97\n",
      "F1 Score: 0.98\n"
     ]
    }
   ],
   "source": [
    "# Interpretar los resultados de la matriz de confusión\n",
    "verdaderos_positivos = matriz[1][1]\n",
    "falsos_positivos = matriz[0][1]\n",
    "verdaderos_negativos = matriz[0][0]\n",
    "falsos_negativos = matriz[1][0]\n",
    "\n",
    "# Calcular métricas\n",
    "precision = verdaderos_positivos / (verdaderos_positivos + falsos_positivos)\n",
    "recall = verdaderos_positivos / (verdaderos_positivos + falsos_negativos)\n",
    "exactitud = (verdaderos_positivos + verdaderos_negativos) / sum(sum(matriz))\n",
    "puntaje_f1 = 2 * (precision * recall) / (precision + recall)\n",
    "\n",
    "# Imprimir diagnóstico\n",
    "print(f\"Precision: {precision:.2f}\")\n",
    "print(f\"Recall: {recall:.2f}\")\n",
    "print(f\"Exactitud: {exactitud:.2f}\")\n",
    "print(f\"F1 Score: {puntaje_f1:.2f}\")"
   ]
  },
  {
   "cell_type": "markdown",
   "metadata": {},
   "source": [
    "Este código calculará y mostrará la precisión, la exhaustividad (recall), la exactitud y el puntaje F1 basándose en los valores de la matriz de confusión proporcionados. Estas métricas proporcionan una comprensión más completa del rendimiento del modelo en la clasificación de los casos positivos y negativos."
   ]
  },
  {
   "cell_type": "markdown",
   "metadata": {},
   "source": [
    "<ul>\n",
    "    <li><strong>Precision:</strong> Precision se refiere a la proporción de verdaderos positivos (casos benignos correctamente identificados) entre todos los positivos predichos (verdaderos positivos + falsos positivos). En este caso, la precisión sería \\( \\frac{68}{68 + 0} = 1.00 \\) o 100%. Significa que todos los casos que el modelo predijo como benignos fueron realmente benignos.\n",
    "    </li>\n",
    "</ul>\n"
   ]
  },
  {
   "cell_type": "markdown",
   "metadata": {},
   "source": [
    "<ul>    \n",
    "    <li><strong>Recall (Exhaustividad):</strong> Recall mide la proporción de verdaderos positivos (casos benignos correctamente identificados) sobre todos los casos benignos reales (verdaderos positivos + falsos negativos). En este caso, el recall sería \\( \\frac{68}{68 + 2} = 0.97 \\) o 97%. Significa que el modelo capturó el 97% de todos los casos benignos.\n",
    "    </li>\n",
    "</ul>"
   ]
  },
  {
   "cell_type": "markdown",
   "metadata": {},
   "source": [
    "<ul>    \n",
    "    <li><strong>Exactitud:</strong> La exactitud se refiere a la proporción de todas las predicciones correctas (verdaderos positivos + verdaderos negativos) entre todas las predicciones (verdaderos positivos + falsos positivos + verdaderos negativos + falsos negativos). En este caso, la exactitud sería \\( \\frac{44 + 68}{44 + 0 + 2 + 68} = 0.99 \\) o 99%. Significa que el modelo acertó el 99% de las predicciones.\n",
    "    </li>\n",
    "</ul>"
   ]
  },
  {
   "cell_type": "markdown",
   "metadata": {},
   "source": [
    "<ul>    \n",
    "    <li><strong>Puntaje F1:</strong> El puntaje F1 es la media armónica de precisión y recall. Es útil cuando las clases están desequilibradas. En este caso, el puntaje F1 sería \\( \\frac{2 \\times (1.00 \\times 0.97)}{1.00 + 0.97} = 0.98 \\) o 98%.</li>\n",
    "</ul>"
   ]
  },
  {
   "cell_type": "markdown",
   "metadata": {},
   "source": [
    "-------------------------------------------"
   ]
  },
  {
   "cell_type": "markdown",
   "metadata": {},
   "source": [
    "## Calcular todas las metricas que se pueden evaluar con el modelo de clasificacion"
   ]
  },
  {
   "cell_type": "code",
   "execution_count": 338,
   "metadata": {},
   "outputs": [
    {
     "name": "stdout",
     "output_type": "stream",
     "text": [
      "Precision del modelo: \n",
      "0.9764705882352941\n"
     ]
    }
   ],
   "source": [
    "# Calcular la preciosion del algoritmo\n",
    "precision = precision_score(y_test, y_pred)\n",
    "print('Precision del modelo: ')\n",
    "print(precision)"
   ]
  },
  {
   "cell_type": "markdown",
   "metadata": {},
   "source": [
    "significa que el 100% de los casos que el modelo clasificó como benignos fueron realmente benignos. Una precisión de 1.0 indica que no hubo falsos positivos en las predicciones del modelo para los datos de prueba evaluados. En otras palabras, todas las instancias que el modelo predijo como benignas fueron realmente benignas."
   ]
  },
  {
   "cell_type": "markdown",
   "metadata": {},
   "source": [
    "---------------------------------"
   ]
  },
  {
   "cell_type": "markdown",
   "metadata": {},
   "source": [
    "## Calcular la exactitud del Modelo"
   ]
  },
  {
   "cell_type": "markdown",
   "metadata": {},
   "source": [
    "#"
   ]
  },
  {
   "cell_type": "code",
   "execution_count": 339,
   "metadata": {},
   "outputs": [
    {
     "name": "stdout",
     "output_type": "stream",
     "text": [
      "Exactitud del modelo\n",
      "0.9736842105263158\n"
     ]
    }
   ],
   "source": [
    "exactitud = accuracy_score(y_test, y_pred)\n",
    "print('Exactitud del modelo')\n",
    "print(exactitud)"
   ]
  },
  {
   "cell_type": "markdown",
   "metadata": {},
   "source": [
    "Significa que el modelo clasificó correctamente el 98.25% de las muestras en el conjunto de prueba. En otras palabras, el modelo acertó al predecir si un caso era benigno o maligno en aproximadamente el 98.25% de los casos evaluados en los datos de prueba."
   ]
  },
  {
   "cell_type": "markdown",
   "metadata": {},
   "source": [
    "----------------------------------------"
   ]
  },
  {
   "cell_type": "markdown",
   "metadata": {},
   "source": [
    "## Calcular sensibilidad (recall)"
   ]
  },
  {
   "cell_type": "code",
   "execution_count": 340,
   "metadata": {},
   "outputs": [
    {
     "name": "stdout",
     "output_type": "stream",
     "text": [
      "Sensibilidad del Modelo\n",
      "0.9880952380952381\n"
     ]
    }
   ],
   "source": [
    "recall = recall_score(y_test, y_pred)\n",
    "print(\"Sensibilidad del Modelo\")\n",
    "print(recall)"
   ]
  },
  {
   "cell_type": "markdown",
   "metadata": {},
   "source": [
    "Significa que el modelo capturó el 100% de todos los casos benignos en el conjunto de prueba. No hubo ningún caso benigno que el modelo dejara de identificar (falso negativo). Una sensibilidad de 1.0 indica que el modelo es muy efectivo para identificar todos los casos benignos en los datos de prueba."
   ]
  },
  {
   "cell_type": "markdown",
   "metadata": {},
   "source": [
    "--------------------------------------------------"
   ]
  },
  {
   "cell_type": "markdown",
   "metadata": {},
   "source": [
    "## Calculo de puntaje F1 (Convinacion entre la precision y la sensibilidad)"
   ]
  },
  {
   "cell_type": "code",
   "execution_count": 341,
   "metadata": {},
   "outputs": [
    {
     "name": "stdout",
     "output_type": "stream",
     "text": [
      "Puntaje F1 del modelo:\n",
      "0.9822485207100591\n"
     ]
    }
   ],
   "source": [
    "puntaje_f1 = f1_score(y_test, y_pred)\n",
    "print(\"Puntaje F1 del modelo:\")\n",
    "print(puntaje_f1)"
   ]
  },
  {
   "cell_type": "markdown",
   "metadata": {},
   "source": [
    "Significa que el modelo tiene un puntaje F1 de aproximadamente 0.993. Este puntaje es muy cercano a 1.0 (o 100%) y sugiere que el modelo tiene un buen equilibrio entre precisión y sensibilidad. En otras palabras, el modelo es preciso para clasificar casos benignos y tiene una alta sensibilidad para capturar la mayoría de los casos benignos reales."
   ]
  },
  {
   "cell_type": "markdown",
   "metadata": {},
   "source": [
    "---------------------------------------"
   ]
  },
  {
   "cell_type": "markdown",
   "metadata": {},
   "source": [
    "## Calcular la curva ROC - AUC del modelo"
   ]
  },
  {
   "cell_type": "code",
   "execution_count": 344,
   "metadata": {},
   "outputs": [
    {
     "name": "stdout",
     "output_type": "stream",
     "text": [
      " Curva ROC - AUC del modelo\n",
      "0.9607142857142857\n"
     ]
    }
   ],
   "source": [
    "roc_uac = roc_auc_score(y_test, y_pred)\n",
    "print(\" Curva ROC - AUC del modelo\")\n",
    "print(roc_uac)"
   ]
  },
  {
   "cell_type": "markdown",
   "metadata": {},
   "source": [
    "Calcula el área bajo la curva ROC (AUC), que es una medida de cuán bien puede distinguir el modelo entre las clases positivas y negativas. Un valor de AUC cercano a 1 indica un buen rendimiento del modelo, mientras que un valor cercano a 0.5 indica un rendimiento deficiente (similar a una predicción aleatoria)."
   ]
  },
  {
   "cell_type": "code",
   "execution_count": 343,
   "metadata": {},
   "outputs": [
    {
     "data": {
      "image/png": "[encoded data removed]",
      "text/plain": [
       "<Figure size 800x600 with 1 Axes>"
      ]
     },
     "metadata": {},
     "output_type": "display_data"
    }
   ],
   "source": [
    "# Calcular las probabilidades de las clases positivas para la curva ROC\n",
    "y_probs = algoritmo.predict_proba(X_test)[:, 1]\n",
    "\n",
    "# Calcular la tasa de verdaderos positivos y la tasa de falsos positivos\n",
    "fpr, tpr, _ = roc_curve(y_test, y_probs)\n",
    "\n",
    "# Calcular el área bajo la curva ROC (AUC)\n",
    "roc_auc = roc_auc_score(y_test, y_probs)\n",
    "\n",
    "# Graficar la curva ROC\n",
    "plt.figure(figsize=(8, 6))\n",
    "plt.plot(fpr, tpr, color='darkorange', lw=2, label='Curva ROC (AUC = {:.2f})'.format(roc_auc))\n",
    "plt.plot([0, 1], [0, 1], color='navy', lw=2, linestyle='--')\n",
    "plt.xlabel('Tasa de Falsos Positivos')\n",
    "plt.ylabel('Tasa de Verdaderos Positivos')\n",
    "plt.title('Curva ROC')\n",
    "plt.legend(loc='lower right')\n",
    "plt.show()"
   ]
  },
  {
   "cell_type": "markdown",
   "metadata": {},
   "source": [
    "La curva ROC representa la tasa de verdaderos positivos en función de la tasa de falsos positivos. Un buen modelo se acercará lo más posible a la esquina superior izquierda del gráfico, lo que indica altas tasas de verdaderos positivos y bajas tasas de falsos positivos."
   ]
  },
  {
   "cell_type": "markdown",
   "metadata": {},
   "source": [
    "### Resumen de Resultados"
   ]
  },
  {
   "cell_type": "code",
   "execution_count": 347,
   "metadata": {},
   "outputs": [
    {
     "name": "stdout",
     "output_type": "stream",
     "text": [
      "Precision del modelo:  0.9764705882352941\n",
      "Exactitud del modelo:  0.9736842105263158\n",
      "Sensibilidad del modelo:  0.9880952380952381\n",
      "Puntaje F1 del modelo:  0.9822485207100591\n",
      "Curva ROC - AUC del modelo:  0.9944444444444445\n"
     ]
    }
   ],
   "source": [
    "print('Precision del modelo: ', precision)\n",
    "print('Exactitud del modelo: ', exactitud)\n",
    "print('Sensibilidad del modelo: ', recall)\n",
    "print('Puntaje F1 del modelo: ', puntaje_f1)\n",
    "print('Curva ROC - AUC del modelo: ', roc_auc)"
   ]
  },
  {
   "cell_type": "markdown",
   "metadata": {},
   "source": [
    "## En resumen, el modelo es altamente preciso y confiable en la identificación del cáncer de mama."
   ]
  },
  {
   "cell_type": "markdown",
   "metadata": {},
   "source": [
    "--------------------------------------------"
   ]
  }
 ],
 "metadata": {
  "kernelspec": {
   "display_name": "Python 3",
   "language": "python",
   "name": "python3"
  },
  "language_info": {
   "codemirror_mode": {
    "name": "ipython",
    "version": 3
   },
   "file_extension": ".py",
   "mimetype": "text/x-python",
   "name": "python",
   "nbconvert_exporter": "python",
   "pygments_lexer": "ipython3",
   "version": "3.11.4"
  },
  "orig_nbformat": 4
 },
 "nbformat": 4,
 "nbformat_minor": 2
}
